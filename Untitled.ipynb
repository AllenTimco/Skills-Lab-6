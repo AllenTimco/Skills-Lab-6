{
 "cells": [
  {
   "cell_type": "code",
   "execution_count": 1,
   "id": "9604efd6-9467-40a7-a870-48a5074a5f68",
   "metadata": {},
   "outputs": [
    {
     "name": "stdin",
     "output_type": "stream",
     "text": [
      "what is your name Bob\n",
      "what is you age 19\n"
     ]
    },
    {
     "name": "stdout",
     "output_type": "stream",
     "text": [
      "Name: Bob. Age: 19\n"
     ]
    }
   ],
   "source": [
    "name = input(\"what is your name\")\n",
    "age = input(\"what is you age\")\n",
    "print(\"Name: \" + name + \". Age: \" + age)\n"
   ]
  },
  {
   "cell_type": "code",
   "execution_count": null,
   "id": "23d7469b-8e48-4f44-88d0-d664f9042ae1",
   "metadata": {},
   "outputs": [],
   "source": []
  }
 ],
 "metadata": {
  "kernelspec": {
   "display_name": "Python 3 (ipykernel)",
   "language": "python",
   "name": "python3"
  },
  "language_info": {
   "codemirror_mode": {
    "name": "ipython",
    "version": 3
   },
   "file_extension": ".py",
   "mimetype": "text/x-python",
   "name": "python",
   "nbconvert_exporter": "python",
   "pygments_lexer": "ipython3",
   "version": "3.11.13"
  }
 },
 "nbformat": 4,
 "nbformat_minor": 5
}
